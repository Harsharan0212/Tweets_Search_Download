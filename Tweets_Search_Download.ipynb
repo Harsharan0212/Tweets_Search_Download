{
  "nbformat": 4,
  "nbformat_minor": 0,
  "metadata": {
    "colab": {
      "provenance": [],
      "authorship_tag": "ABX9TyN8hIozbVu0x3KP7WDeurWF",
      "include_colab_link": true
    },
    "kernelspec": {
      "name": "python3",
      "display_name": "Python 3"
    },
    "language_info": {
      "name": "python"
    }
  },
  "cells": [
    {
      "cell_type": "markdown",
      "metadata": {
        "id": "view-in-github",
        "colab_type": "text"
      },
      "source": [
        "<a href=\"https://colab.research.google.com/github/Harsharan0212/Tweets_Search_Download/blob/main/Tweets_Search_Download.ipynb\" target=\"_parent\"><img src=\"https://colab.research.google.com/assets/colab-badge.svg\" alt=\"Open In Colab\"/></a>"
      ]
    },
    {
      "cell_type": "code",
      "execution_count": null,
      "metadata": {
        "id": "HCca-x00vN0m"
      },
      "outputs": [],
      "source": [
        "!pip install tweepy"
      ]
    },
    {
      "cell_type": "code",
      "source": [
        "access_token = \"501682241-ZG1DshytyxUIUY8FXPoH2AXaDG9d5DQlORemfAzU\"\n",
        "access_token_secret = \"mxwCYkDjgWG5qWy8ONtVs3j2lxiYSxyberVVa92jmd27z\"\n",
        "consumer_key = \"we0Drpnvc1FZNazKkiKoFWlGf\"\n",
        "consumer_secret = \"OXRvmJwM6ca9k90XMIMoktSCa5XvjNieqJivcfjbOAlmpO6RhH\"\n",
        ""
      ],
      "metadata": {
        "id": "Yh-3kimQPFFD"
      },
      "execution_count": null,
      "outputs": []
    },
    {
      "cell_type": "code",
      "source": [
        "import os\n",
        "import tweepy as tw\n",
        "import pandas as pd"
      ],
      "metadata": {
        "id": "GR7QPH1JPRG8"
      },
      "execution_count": null,
      "outputs": []
    },
    {
      "cell_type": "code",
      "source": [
        "auth = tw.OAuthHandler(consumer_key, consumer_secret)\n",
        "auth.set_access_token(access_token, access_token_secret)\n",
        "api = tw.API(auth, wait_on_rate_limit=True)"
      ],
      "metadata": {
        "id": "BdXF9l_bPXMu"
      },
      "execution_count": null,
      "outputs": []
    },
    {
      "cell_type": "code",
      "source": [
        "search_words = \"#Gear5\"\n",
        "date_since = \"2023-02-15\""
      ],
      "metadata": {
        "id": "Vcsp8HgKPa-9"
      },
      "execution_count": null,
      "outputs": []
    },
    {
      "cell_type": "code",
      "source": [
        "tweets = api.search_tweets(q=search_words, lang=\"en\", since=date_since, tweet_mode=\"extended\", count=5)\n"
      ],
      "metadata": {
        "id": "jrThw2JwPqcy"
      },
      "execution_count": null,
      "outputs": []
    },
    {
      "cell_type": "code",
      "source": [
        "for tweet in tweets:\n",
        "    # Extract relevant information from each tweet\n",
        "    username = tweet.user.screen_name\n",
        "    text = tweet.full_text\n",
        "    created_at = tweet.created_at\n",
        "\n",
        "    # Do something with the tweet\n",
        "    print(f\"Username: {username}\")\n",
        "    print(f\"Text: {text}\")\n",
        "    print(f\"Created at: {created_at}\")\n",
        "    print()"
      ],
      "metadata": {
        "collapsed": true,
        "id": "RBbJZHFOP3iM"
      },
      "execution_count": null,
      "outputs": []
    }
  ]
}